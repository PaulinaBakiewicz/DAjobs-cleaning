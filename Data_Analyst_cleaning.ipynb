{
 "cells": [
  {
   "cell_type": "code",
   "execution_count": 4,
   "id": "815efad7-2ac6-44fe-af3b-0987ec60eb08",
   "metadata": {},
   "outputs": [],
   "source": [
    "import pandas as pd\n",
    "import matplotlib as plt\n",
    "import numpy as np\n",
    "import seaborn as sns"
   ]
  },
  {
   "cell_type": "code",
   "execution_count": 8,
   "id": "4511917e-fe8f-4331-9fbf-7fbaf481a44e",
   "metadata": {
    "scrolled": true
   },
   "outputs": [
    {
     "name": "stdout",
     "output_type": "stream",
     "text": [
      "<class 'pandas.core.frame.DataFrame'>\n",
      "RangeIndex: 1796 entries, 0 to 1795\n",
      "Data columns (total 8 columns):\n",
      " #   Column              Non-Null Count  Dtype \n",
      "---  ------              --------------  ----- \n",
      " 0   Job ID              1796 non-null   object\n",
      " 1   Job Title           1796 non-null   object\n",
      " 2   Company Name        1796 non-null   object\n",
      " 3   Language and Tools  1629 non-null   object\n",
      " 4   Job Salary          1239 non-null   object\n",
      " 5   City                1796 non-null   object\n",
      " 6   Province            1678 non-null   object\n",
      " 7   Job Link            1796 non-null   object\n",
      "dtypes: object(8)\n",
      "memory usage: 112.4+ KB\n",
      "None\n",
      "                 Job ID                                          Job Title  \\\n",
      "0  job_9c7f38160c736c78  Binance Accelerator Program - Data Analyst (Risk)   \n",
      "1  job_0da15fed6a515fe5                                   Business Analyst   \n",
      "2  job_2dc0470241aa6066                          Geophysicist/Data Analyst   \n",
      "3  job_cbbe0e29b236d2b5                Business Intelligence Data Engineer   \n",
      "4  job_fe8ad423818b244a               BUSINESS INTELLIGENCE SPECIALIST, FT   \n",
      "\n",
      "                    Company Name  \\\n",
      "0                        Binance   \n",
      "1  Canadian Nuclear Laboratories   \n",
      "2      Sander Geophysics Limited   \n",
      "3          Maximus Services, LLC   \n",
      "4          Niagara Health System   \n",
      "\n",
      "                                  Language and Tools  \\\n",
      "0                                        Python, Sql   \n",
      "1                          Power Bi, Power BI, Excel   \n",
      "2                                                NaN   \n",
      "3  Fabric, Power BI, Sql, Machine Learning, Genes...   \n",
      "4                          Azure, Power BI, SQL, Aws   \n",
      "\n",
      "                      Job Salary     City Province  \\\n",
      "0                            NaN   Remote      NaN   \n",
      "1                            NaN   Remote      NaN   \n",
      "2                            NaN   Ottawa       ON   \n",
      "3  87,875Ã¢â‚¬â€œ$105,000 a year  Toronto       ON   \n",
      "4    55.39Ã¢â‚¬â€œ$62.66 an hour  Niagara       ON   \n",
      "\n",
      "                                            Job Link  \n",
      "0  https://ca.indeed.com/rc/clk?jk=9c7f38160c736c...  \n",
      "1  https://ca.indeed.com/rc/clk?jk=0da15fed6a515f...  \n",
      "2  https://ca.indeed.com/rc/clk?jk=2dc0470241aa60...  \n",
      "3  https://ca.indeed.com/rc/clk?jk=cbbe0e29b236d2...  \n",
      "4  https://ca.indeed.com/rc/clk?jk=fe8ad423818b24...  \n"
     ]
    }
   ],
   "source": [
    "df = pd.read_csv('Raw_Dataset.csv')\n",
    "print(df.info())\n",
    "print(df.head())"
   ]
  },
  {
   "cell_type": "markdown",
   "id": "9309d886-127c-4ae0-b4c4-257d59c816b4",
   "metadata": {},
   "source": [
    "Now that the dataframe is loaded in correctly we can explore the missing values."
   ]
  },
  {
   "cell_type": "code",
   "execution_count": 10,
   "id": "3d8a1565-4281-40f0-b084-d1440c4a92e8",
   "metadata": {},
   "outputs": [
    {
     "name": "stdout",
     "output_type": "stream",
     "text": [
      "Job ID                  0\n",
      "Job Title               0\n",
      "Company Name            0\n",
      "Language and Tools    167\n",
      "Job Salary            557\n",
      "City                    0\n",
      "Province              118\n",
      "Job Link                0\n",
      "dtype: int64\n"
     ]
    }
   ],
   "source": [
    "print(df.isna().sum())"
   ]
  },
  {
   "cell_type": "code",
   "execution_count": 12,
   "id": "b0bc5b79-a07f-46b1-b1ee-9577ca4186d9",
   "metadata": {},
   "outputs": [
    {
     "name": "stdout",
     "output_type": "stream",
     "text": [
      "Job ID                 0.000000\n",
      "Job Title              0.000000\n",
      "Company Name           0.000000\n",
      "Language and Tools     9.298441\n",
      "Job Salary            31.013363\n",
      "City                   0.000000\n",
      "Province               6.570156\n",
      "Job Link               0.000000\n",
      "dtype: float64\n"
     ]
    }
   ],
   "source": [
    "missing_percentage = df.isna().mean() * 100\n",
    "print(missing_percentage)"
   ]
  },
  {
   "cell_type": "markdown",
   "id": "d3ba05ff-226a-434c-9bb7-25f3e73c8ab1",
   "metadata": {},
   "source": [
    "31% (557/1796) of Job Salaries entries are null and numerous entries have special symbols included. There is also discrepancy in the values given, some are in yearly range, some are hourly. I will remove this column as there are too many values to fill and it will not be a reliable data to use. Province missing values are due to City column entry being remote - missing values in this case can be alleviated. Rows with null Language and Tools will be deleted as it provides no information about the job."
   ]
  },
  {
   "cell_type": "code",
   "execution_count": 14,
   "id": "d0368ecd-97f8-40a7-be88-0f39848d2059",
   "metadata": {},
   "outputs": [],
   "source": [
    "#Replacing the null in 'Province' to Remote if City is also Remote\n",
    "df.loc[df['City'].str.contains('Remote', case=False, na=False), 'Province'] = 'Remote'"
   ]
  },
  {
   "cell_type": "code",
   "execution_count": 16,
   "id": "edddd1b5-1e2f-4368-8154-461a18b63a03",
   "metadata": {
    "scrolled": true
   },
   "outputs": [
    {
     "name": "stdout",
     "output_type": "stream",
     "text": [
      "      City Province\n",
      "0   Remote   Remote\n",
      "1   Remote   Remote\n",
      "35  Remote   Remote\n",
      "36  Remote   Remote\n",
      "39  Remote   Remote\n"
     ]
    }
   ],
   "source": [
    "# Checking if the replacement was successful\n",
    "print(df[df['Province'] == 'Remote'][['City', 'Province']].head())\n"
   ]
  },
  {
   "cell_type": "markdown",
   "id": "8a61dc27-2e48-4620-a861-d9f7cdd4b92a",
   "metadata": {},
   "source": [
    "Seems like the replacement is successfull. Let's check how many rows that are null are left."
   ]
  },
  {
   "cell_type": "code",
   "execution_count": 18,
   "id": "63b02076-52a8-4c32-9730-575e788a8f01",
   "metadata": {
    "scrolled": true
   },
   "outputs": [
    {
     "name": "stdout",
     "output_type": "stream",
     "text": [
      "Job ID                  0\n",
      "Job Title               0\n",
      "Company Name            0\n",
      "Language and Tools    167\n",
      "Job Salary            557\n",
      "City                    0\n",
      "Province               18\n",
      "Job Link                0\n",
      "dtype: int64\n"
     ]
    }
   ],
   "source": [
    "print(df.isna().sum())"
   ]
  },
  {
   "cell_type": "markdown",
   "id": "d09e9a77-f08c-40cc-89ae-d1c7308d2f81",
   "metadata": {},
   "source": [
    "Job Link column does not provide useful information and has a high probability of being obsolete after some time.                                                                                                 "
   ]
  },
  {
   "cell_type": "code",
   "execution_count": 20,
   "id": "ab1df6bc-a04c-4d40-8d07-46f5fa6f83a1",
   "metadata": {},
   "outputs": [],
   "source": [
    "del df['Job Link']"
   ]
  },
  {
   "cell_type": "code",
   "execution_count": 22,
   "id": "c191dd44-13ee-4fd4-a42e-e75edafa43ab",
   "metadata": {},
   "outputs": [
    {
     "name": "stdout",
     "output_type": "stream",
     "text": [
      "             Job ID                                          Job Title  \\\n",
      "1023  1009308668249                                   CATEGORY ANALYST   \n",
      "1045  1009389771243                              Data Business Analyst   \n",
      "1085  1009282875220                Data Quality and Management Analyst   \n",
      "1088  1009376310781                              business data analyst   \n",
      "1120  1009384459609  Marketing Data Analyst/Analyste des donnÃƒÆ’Ã‚...   \n",
      "1148  1009382475450                               Intermediate Analyst   \n",
      "1230  1009376154022  Business intelligence analyst - Information te...   \n",
      "1249  1009350023073  Expert Data Warehouse / Data Engineer / Data A...   \n",
      "1304  1009388363698              Principal Services Operations Analyst   \n",
      "1311  1009363378192                             Marketing Data Analyst   \n",
      "1314  1007956853540                                Senior Data Analyst   \n",
      "1368  1009387787093              Principal Business Continuity Analyst   \n",
      "1376  1009350830411                               Pricing Analyst Prin   \n",
      "1490  1009249876777         Analyst (Market Research, Social Research)   \n",
      "1528  1009386665592                        Claims Compliance Analyst -   \n",
      "1590  1009360189635                                        BI Engineer   \n",
      "1718  1009310779782                                    Pricing Analyst   \n",
      "1775  1009369429728                           Senior Logistics Analyst   \n",
      "\n",
      "                       Company Name  \\\n",
      "1023                 Groupe Leclerc   \n",
      "1045                Bridgenext, Inc   \n",
      "1085                        Flexiti   \n",
      "1088      Altec Global Capital Inc.   \n",
      "1120                     Playground   \n",
      "1148                        WestJet   \n",
      "1230      Speerville Flour Mill Inc   \n",
      "1249      THIMM Group GmbH + Co. KG   \n",
      "1304                       Dayforce   \n",
      "1311      Entourage Human Resources   \n",
      "1314  Build Measure Learn Sweden AB   \n",
      "1368                       Dayforce   \n",
      "1376                       Dayforce   \n",
      "1490                        Advanis   \n",
      "1528                       Allstate   \n",
      "1590          COREL CORPORATION USA   \n",
      "1718                           IMCD   \n",
      "1775            NewAge Products Inc   \n",
      "\n",
      "                                     Language and Tools  \\\n",
      "1023    Bilingual, Tableau, Sales, Retail Link, Nielsen   \n",
      "1045  Power BI, SQL, Azure, Business intelligence, O...   \n",
      "1085  Azure, SQL, NoSQL, Google Cloud Platform, Data...   \n",
      "1088                   Python, Java, Statistics, C++, C   \n",
      "1120       Python, No SQL, SQL, Relational databases, R   \n",
      "1148      CI/CD, Knowledge management, Azure, PCI, SCCM   \n",
      "1230  Power BI, Business intelligence, R, Process im...   \n",
      "1249                                     Data warehouse   \n",
      "1304      Power BI, SQL, Ceridian, Statistics, Dayforce   \n",
      "1311            Python, Bilingual, No SQL, Tableau, SQL   \n",
      "1314  Investment, Power BI, Statistics, Python, Tableau   \n",
      "1368  Ceridian, Disaster recovery, Statistics, Dayfo...   \n",
      "1376          Pricing, Power BI, SQL, Ceridian, Tableau   \n",
      "1490  Statistical software, SAS, R, Statistics, Tableau   \n",
      "1528  Python, SQL, Financial auditing, Office Suite,...   \n",
      "1590  Power BI, Data modeling, Business intelligence...   \n",
      "1718                   JD Edwards, ERP systems, Tableau   \n",
      "1775  Python, Crystal Reports, SQL, Microsoft Access...   \n",
      "\n",
      "                                  Job Salary        City Province  \n",
      "1023                                     NaN      Canada      NaN  \n",
      "1045                                     NaN      Canada      NaN  \n",
      "1085                                     NaN     Ontario      NaN  \n",
      "1088  $45.00Ãƒâ€šÃ‚Â Per hour(Employer Est.)  North York      NaN  \n",
      "1120                                     NaN      Canada      NaN  \n",
      "1148                                     NaN      Canada      NaN  \n",
      "1230             $51K - $110K(Employer Est.)      Canada      NaN  \n",
      "1249             $47K - $70K(Glassdoor Est.)    Engineer      NaN  \n",
      "1304             $84K - $149K(Employer Est.)      Canada      NaN  \n",
      "1311              $70K - $80K(Employer Est.)      Canada      NaN  \n",
      "1314                                     NaN    Engineer      NaN  \n",
      "1368             $84K - $149K(Employer Est.)      Canada      NaN  \n",
      "1376             $84K - $149K(Employer Est.)      Canada      NaN  \n",
      "1490                                     NaN      Canada      NaN  \n",
      "1528                                     NaN      Canada      NaN  \n",
      "1590            $100K - $110K(Employer Est.)      Canada      NaN  \n",
      "1718                                     NaN      Canada      NaN  \n",
      "1775                                     NaN      Canada      NaN  \n"
     ]
    }
   ],
   "source": [
    "# Display rows where 'Province' is null\n",
    "null_province_rows = df[df['Province'].isna()]\n",
    "print(null_province_rows)"
   ]
  },
  {
   "cell_type": "markdown",
   "id": "8effba9d-a0a4-48ee-9c08-4cad91ffc5db",
   "metadata": {},
   "source": [
    "Exploring those missing values shows a new problem - some Cities are replaced by 'engineer' which is definitely not a city. 'Canada' is also not applicable as a city. "
   ]
  },
  {
   "cell_type": "code",
   "execution_count": null,
   "id": "03fb17b9-b8fc-40b2-82b6-9d365d850b11",
   "metadata": {},
   "outputs": [],
   "source": []
  },
  {
   "cell_type": "code",
   "execution_count": 24,
   "id": "882502ce-5c12-4a54-a722-98ce1f61e0bc",
   "metadata": {},
   "outputs": [],
   "source": [
    "del df['Job Salary']"
   ]
  },
  {
   "cell_type": "markdown",
   "id": "5b3aaf2e-a3c8-437a-a854-5207e48a688d",
   "metadata": {},
   "source": [
    "In 'City' column Montreal and Boye d'Urfe have special characters that have to be replaced with 'e'."
   ]
  },
  {
   "cell_type": "code",
   "execution_count": 28,
   "id": "770f9f88-f790-434f-9f08-ca1cc90f6072",
   "metadata": {},
   "outputs": [
    {
     "name": "stdout",
     "output_type": "stream",
     "text": [
      "['Remote' 'Ottawa' 'Toronto' 'Niagara' 'Abbotsford' 'Windsor' 'Vancouver'\n",
      " 'Burlington' 'Calgary' 'Barrie' 'Richmond Hill' 'Weyburn' 'Mississauga'\n",
      " 'Banff' 'Edmonton' 'Greater Toronto Area' 'Montreal'\n",
      " 'Remote in Beauceville' 'London' 'Remote in Charlottetown'\n",
      " 'Saint-Laurent' 'Fredericton' 'Bedford' 'Remote in Toronto' 'Brampton'\n",
      " 'Vaughan' 'Surrey' 'Red Lake' 'Winnipeg' 'Laval' 'Halifax' 'Dieppe'\n",
      " 'Vernon' 'Dorval' 'Bolton' 'Sherbrooke' 'Victoria' 'North York'\n",
      " 'Oakville' 'Richmond' 'Burnaby' 'Metro Vancouver Regional District'\n",
      " 'Berwick' 'Remote in Moncton' 'Remote in Mount Pearl' 'Remote in Milton'\n",
      " 'Remote in Boucherville' 'Remote in Woodstock' 'Remote in Ottawa'\n",
      " 'Remote in Kelowna' 'Remote in Lakeside' 'Remote in Mississauga'\n",
      " 'Remote in Winnipeg' 'Remote in Regina' 'Remote in Victoria'\n",
      " 'Remote in Port Coquitlam' 'Remote in Thunder Bay' 'Remote in Calgary'\n",
      " 'Squamish' 'Remote in Edmonton' 'North Vancouver'\n",
      " 'Remote in South Dundas' 'Hamilton' 'Waterloo' 'Waterdown' 'Saskatoon'\n",
      " 'Whitehorse' 'Okotoks' 'Thornhill' 'Concord' 'Sparwood' 'Yellowknife'\n",
      " 'Markham' 'Bradford' 'Etobicoke' 'Leduc' 'Rocky View County'\n",
      " 'Remote in Markham' 'Regina' 'St. Catharines' 'Lakeshore' 'St. Thomas'\n",
      " 'York' 'St. Paul' 'Lacombe' 'Kahnawake' 'Penticton' 'Kingston' 'Aurora'\n",
      " 'Stellarton' 'Scarborough' 'Guelph' 'Quebec City' 'Milton' 'Beaumont'\n",
      " 'Portage la Prairie' 'Remote in Senneville' 'Thunder Bay' 'Kitchener'\n",
      " 'Leamington' 'Clairmont' 'Remote in Athabasca' 'Speerville' 'St. Albert'\n",
      " 'Kamloops' 'West' 'Kirkland' 'Saint John' 'Kelowna' 'Peterborough'\n",
      " 'Longueuil' 'Saint-Jean-sur-Richelieu' 'Acheson' 'Newmarket' 'Dartmouth'\n",
      " 'Owen Sound' 'Mont-royal' 'Amherst' 'Port Coquitlam' 'Maple Ridge'\n",
      " 'White Rock' 'Ancaster' 'Delta' 'Remote in Halifax' \"Baie-d'urfe\"\n",
      " 'Saint-Hubert' 'New Westminster' 'Woodbridge' 'Prince George'\n",
      " 'Remote in London' 'Haldimand' 'Nepean' 'Valcourt' 'Remote in North Bay'\n",
      " 'Downsview' '100 Mile House' 'Engineer' 'Moncton' 'Boucherville'\n",
      " 'Langley' 'Teeswater' 'Georgetown' 'Fort McMurray' 'Midtown Toronto'\n",
      " 'Canada' 'Coquitlam' 'Port Hope' 'Cambridge' 'North Bay' 'Ontario'\n",
      " \"Baie-d'Urfe\" 'Haldimand County' 'Saguenay' 'Beauceville' 'Whitby'\n",
      " 'Rocky View' 'New Brunswick' 'Newfoundland and Labrador' 'Senneville'\n",
      " 'Quebec' 'Portage La Prairie' 'Lethbridge' 'British Columbia'\n",
      " 'Saskatchewan' 'Bowmanville' 'Uxbridge' 'Chalk River' 'Terrace'\n",
      " 'Sherwood Park' 'Point Edward' 'Alberta']\n"
     ]
    }
   ],
   "source": [
    "# Replace the special characters with 'e' in the 'City' column\n",
    "df['City'] = df['City'].str.replace(r'ÃƒÂ©', 'e', regex=True)\n",
    "df['City'] = df['City'].str.replace(r'ÃƒÆ’Ã‚Â©', 'e', regex=True)\n",
    "# Check if the replacement was successful\n",
    "print(df['City'].unique())\n"
   ]
  },
  {
   "cell_type": "markdown",
   "id": "b021d0de-b7cf-43f2-9792-18d09b3d798c",
   "metadata": {},
   "source": [
    "We can create a new column that contains the Type of work: Remote, Hybrid or In person based on 'City' column."
   ]
  }
 ],
 "metadata": {
  "kernelspec": {
   "display_name": "Python [conda env:base] *",
   "language": "python",
   "name": "conda-base-py"
  },
  "language_info": {
   "codemirror_mode": {
    "name": "ipython",
    "version": 3
   },
   "file_extension": ".py",
   "mimetype": "text/x-python",
   "name": "python",
   "nbconvert_exporter": "python",
   "pygments_lexer": "ipython3",
   "version": "3.11.5"
  }
 },
 "nbformat": 4,
 "nbformat_minor": 5
}
